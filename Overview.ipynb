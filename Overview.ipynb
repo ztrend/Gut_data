{
 "cells": [
  {
   "cell_type": "code",
   "execution_count": 2,
   "id": "6df75495",
   "metadata": {},
   "outputs": [
    {
     "name": "stdout",
     "output_type": "stream",
     "text": [
      "This is cutadapt 4.3 with Python 3.10.6\n",
      "Command line parameters: -a AGATCGGAAGAGCACACGTCTGAACTCCAGTCAC -o trimmed_reads.fastq 8656_S56_L001_R1_001.fastq\n",
      "Processing single-end reads on 1 core ...\n",
      "Done           00:00:01       118,890 reads @  11.3 µs/read;   5.30 M reads/minute\n",
      "Finished in 1.354 s (11.390 µs/read; 5.27 M reads/minute).\n",
      "\n",
      "=== Summary ===\n",
      "\n",
      "Total reads processed:                 118,890\n",
      "Reads with adapters:                     3,902 (3.3%)\n",
      "Reads written (passing filters):       118,890 (100.0%)\n",
      "\n",
      "Total basepairs processed:    35,760,260 bp\n",
      "Total written (filtered):     35,748,505 bp (100.0%)\n",
      "\n",
      "=== Adapter 1 ===\n",
      "\n",
      "Sequence: AGATCGGAAGAGCACACGTCTGAACTCCAGTCAC; Type: regular 3'; Length: 34; Trimmed: 3902 times\n",
      "\n",
      "Minimum overlap: 3\n",
      "No. of allowed errors:\n",
      "1-9 bp: 0; 10-19 bp: 1; 20-29 bp: 2; 30-34 bp: 3\n",
      "\n",
      "Bases preceding removed adapters:\n",
      "  A: 0.7%\n",
      "  C: 1.6%\n",
      "  G: 51.5%\n",
      "  T: 46.2%\n",
      "  none/other: 0.0%\n",
      "\n",
      "Overview of removed sequences\n",
      "length\tcount\texpect\tmax.err\terror counts\n",
      "3\t3862\t1857.7\t0\t3862\n",
      "4\t39\t464.4\t0\t39\n",
      "13\t1\t0.0\t1\t0 1\n",
      "(ERR): \"/root/code/data_science/Gut_data/assembly_summary_refseq.txt\" does not exist or is not a Bowtie 2 index\n",
      "Exiting now ...\n",
      "Traceback (most recent call last):\n",
      "  File \"/root/code/data_science/Gut_data/pipeline.py\", line 55, in <module>\n",
      "    run_pipeline(input_fastq, adapter_seq, reference_db)\n",
      "  File \"/root/code/data_science/Gut_data/pipeline.py\", line 45, in run_pipeline\n",
      "    align_reads(trimmed_fastq, aligned_sam, reference_db)\n",
      "  File \"/root/code/data_science/Gut_data/pipeline.py\", line 17, in align_reads\n",
      "    subprocess.run(cmd, check=True)\n",
      "  File \"/root/.pyenv/versions/3.10.6/lib/python3.10/subprocess.py\", line 524, in run\n",
      "    raise CalledProcessError(retcode, process.args,\n",
      "subprocess.CalledProcessError: Command '['bowtie2', '-x', '/root/code/data_science/Gut_data/assembly_summary_refseq.txt', '-U', 'trimmed_reads.fastq', '-S', 'aligned_reads.sam', '--very-sensitive']' returned non-zero exit status 255.\n"
     ]
    }
   ],
   "source": [
    "!python pipeline.py\n"
   ]
  },
  {
   "cell_type": "code",
   "execution_count": null,
   "id": "2fb0e27b",
   "metadata": {},
   "outputs": [],
   "source": []
  }
 ],
 "metadata": {
  "kernelspec": {
   "display_name": "Python 3 (ipykernel)",
   "language": "python",
   "name": "python3"
  },
  "language_info": {
   "codemirror_mode": {
    "name": "ipython",
    "version": 3
   },
   "file_extension": ".py",
   "mimetype": "text/x-python",
   "name": "python",
   "nbconvert_exporter": "python",
   "pygments_lexer": "ipython3",
   "version": "3.10.6"
  },
  "toc": {
   "base_numbering": 1,
   "nav_menu": {},
   "number_sections": true,
   "sideBar": true,
   "skip_h1_title": false,
   "title_cell": "Table of Contents",
   "title_sidebar": "Contents",
   "toc_cell": false,
   "toc_position": {},
   "toc_section_display": true,
   "toc_window_display": false
  },
  "varInspector": {
   "cols": {
    "lenName": 16,
    "lenType": 16,
    "lenVar": 40
   },
   "kernels_config": {
    "python": {
     "delete_cmd_postfix": "",
     "delete_cmd_prefix": "del ",
     "library": "var_list.py",
     "varRefreshCmd": "print(var_dic_list())"
    },
    "r": {
     "delete_cmd_postfix": ") ",
     "delete_cmd_prefix": "rm(",
     "library": "var_list.r",
     "varRefreshCmd": "cat(var_dic_list()) "
    }
   },
   "types_to_exclude": [
    "module",
    "function",
    "builtin_function_or_method",
    "instance",
    "_Feature"
   ],
   "window_display": false
  }
 },
 "nbformat": 4,
 "nbformat_minor": 5
}
